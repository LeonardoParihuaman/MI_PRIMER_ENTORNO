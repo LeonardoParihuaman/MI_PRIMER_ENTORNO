{
 "cells": [
  {
   "cell_type": "markdown",
   "id": "59852dfb",
   "metadata": {},
   "source": [
    "# Mi primer Notebook\n",
    "autor: Leonardo Parihuaman\n",
    "* un elemento en un lista no ordenada\n",
    "* otro elemento en una lista\n",
    "\n",
    "1. elemento en una lista ordenada u enumerada\n",
    "2. otro elemento"
   ]
  },
  {
   "cell_type": "code",
   "execution_count": 2,
   "id": "23fdcbbc",
   "metadata": {},
   "outputs": [
    {
     "name": "stdout",
     "output_type": "stream",
     "text": [
      "Hello World\n"
     ]
    }
   ],
   "source": [
    "print(\"Hello World\")"
   ]
  },
  {
   "cell_type": "code",
   "execution_count": null,
   "id": "d3f132df",
   "metadata": {},
   "outputs": [],
   "source": []
  },
  {
   "cell_type": "code",
   "execution_count": null,
   "id": "8658608c",
   "metadata": {},
   "outputs": [],
   "source": []
  }
 ],
 "metadata": {
  "kernelspec": {
   "display_name": "Python 3 (ipykernel)",
   "language": "python",
   "name": "python3"
  },
  "language_info": {
   "codemirror_mode": {
    "name": "ipython",
    "version": 3
   },
   "file_extension": ".py",
   "mimetype": "text/x-python",
   "name": "python",
   "nbconvert_exporter": "python",
   "pygments_lexer": "ipython3",
   "version": "3.8.6"
  }
 },
 "nbformat": 4,
 "nbformat_minor": 5
}
